{
 "cells": [
  {
   "cell_type": "code",
   "execution_count": null,
   "id": "3e9a0d8c",
   "metadata": {},
   "outputs": [],
   "source": [
    "from langchain_community.llms import Ollama\n",
    "from langchain_experimental.agents import create_pandas_dataframe_agent\n",
    "import pandas as pd\n",
    "\n",
    "# Load your CSV data\n",
    "df = pd.read_csv(\"data.csv\")\n",
    "\n",
    "# Initialize the LLM (Ollama must be running locally with the mistral model)\n",
    "llm = Ollama(model=\"mistral\")\n",
    "\n",
    "# Create the DataFrame agent\n",
    "agent = create_pandas_dataframe_agent(\n",
    "    llm=llm,\n",
    "    df=df,\n",
    "    verbose=True,\n",
    "    handle_parsing_errors=True,\n",
    "    agent_type=\"zero-shot-react-description\",\n",
    "    allow_dangerous_code=True\n",
    ")\n",
    "\n",
    "# Ask a question using .invoke() instead of .run()\n",
    "question = \"Which product had the High sales?\"\n",
    "response = agent.invoke(question)\n",
    "\n",
    "# Print the result\n",
    "print(response)\n"
   ]
  }
 ],
 "metadata": {
  "kernelspec": {
   "display_name": "Python 3",
   "language": "python",
   "name": "python3"
  },
  "language_info": {
   "codemirror_mode": {
    "name": "ipython",
    "version": 3
   },
   "file_extension": ".py",
   "mimetype": "text/x-python",
   "name": "python",
   "nbconvert_exporter": "python",
   "pygments_lexer": "ipython3",
   "version": "3.12.7"
  }
 },
 "nbformat": 4,
 "nbformat_minor": 5
}
